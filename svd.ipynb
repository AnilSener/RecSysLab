{
 "metadata": {
  "name": "",
  "signature": "sha256:118390da7f269c7c24cb23b341a338429a788fac2c856a0f29b278d83b477867"
 },
 "nbformat": 3,
 "nbformat_minor": 0,
 "worksheets": [
  {
   "cells": [
    {
     "cell_type": "markdown",
     "metadata": {},
     "source": [
      "# Background\n",
      "\n",
      "We have learned many things from the Netflix prize about model-based collaborative filtering. During the competition, there were many research and experimentation on what model-based CF could do. The top 2 algorithms that came out of the competition are SVD and RBM, measured by RMSE. The blend method of the 2 algorithms gave a even lower RMSE, improving the results of the prediction. This was then used as part of Netflix rating prediction in production. \n",
      "\n",
      "We will look at Singular Value Decomposition in detail in this essay.\n",
      "\n",
      "# Introduction To Singular Value Decomposition (SVD)\n",
      "\n",
      "The main basic idea is we have a original sparse matrix which is full of zeros. We will decompose it into fewer dimensions in order to make it less sparse. The method to do the decomposition/factorization is to use SVD/MF. \n",
      "\n",
      "The method to doing this with SVD is to first perform mean normalization and feature scaling on data X with n-dimensions. Compute a covariance matrix Sigma for X. The compute SVD on signma to get its eigenvectors.\n",
      "\n",
      "\n",
      "m main idea decompose the original matrix into 3. R..no o ffactions. user item matrix, how user ma\n",
      "\n",
      "<img src=\"./images/svd.png\">\n"
     ]
    },
    {
     "cell_type": "markdown",
     "metadata": {},
     "source": [
      "# User-based Collaborative Filtering\n",
      "\n",
      "<img src=\"./images/ubcf.png\">\n",
      "\n",
      "The weights is computed based on the idea of similarity. The more similar user, the more weight is assigned. The similarity function such as Pearson correlation, is first used to find the nearest neighbor and then used it as a weighted average to produce the predicted rating for the target user.\n",
      "\n",
      "# Challenges of Collaborative Filtering\n",
      "\n",
      "The biggest challenge is the sparsity. Typically, there's a large product sets and user ratings only forma  small percentage of them. If the sparsity is under 1%, it is going to a challenge to try to find those neighborhood. It will be a challenge to make predictions given the sparsity. As it becomes bigger, we will also face the challenge of scalability where it will become more and more computationally expensive. \n",
      "\n",
      "Generally rule of thumb is when we have the number of users comparable to one-tenth size of the product catalogue, we can probably get started.\n",
      "\n",
      "One suggested solution is the usage of latent models to capture the similarity between users and items in a reduced dimensional space. The idea is to compact the sparse matrix into a fully dense matrix. Instead of the matrix of representing items which is going to be a sparse space, we can recommend dimensions in our space such as categories which has a much smaller and dense matrix.\n",
      "\n",
      "Some methods of dimensionality reduction includes matrix factorization, clustering, and PCA. Do some clustering to get groups of users and only do similarity calculation on the groups.\n",
      "\n",
      "1. **Cold Start**: There needs to have enough users already in the system to find a match. New items need to have enough ratings.\n",
      "* **Popularity Bias**: Hard to recommend items to users with unique tastes. We often only recommend popular items. The items at the long tail do not have much data.\n",
      "\n",
      "# Item-based Collaborative Filtering\n",
      "\n",
      "The key concepts is similar to user-based CF. We consider the items very similar if the same subset of users like those same items. Compute the prediction by taking the weighted average of the target user's ratings on most similar items.\n",
      "\n",
      "<img src=\"./images/ibcf.png\">\n",
      "<img src=\"./images/ibcf2.png\">\n",
      "<img src=\"./images/ibcf3.png\">\n",
      "<img src=\"./images/ibcf4.png\">"
     ]
    },
    {
     "cell_type": "markdown",
     "metadata": {},
     "source": [
      "# Model-based CF Algorithms\n",
      "\n",
      "- Memory based: Use the entire user-item database to generate the prediction using statistical techniques to find the nearest neighbor method)\n",
      "- Model based: First develop a model and use the model to make predictions. Examples:\n",
      "    - Clustering\n",
      "    - Rule-based (Association Rules)\n",
      "    - Classifers\n",
      "    - Regression\n",
      "    - LDA, etc."
     ]
    },
    {
     "cell_type": "code",
     "collapsed": false,
     "input": [
      "from IPython.display import display, HTML\n",
      "display(HTML(open('style/custom.css').read()))"
     ],
     "language": "python",
     "metadata": {},
     "outputs": []
    }
   ],
   "metadata": {}
  }
 ]
}
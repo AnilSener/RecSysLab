{
 "metadata": {
  "name": "",
  "signature": "sha256:919e34e91a55455b707b8b1b943feced45b1b3b6a76416bed832f7d298e9f1f9"
 },
 "nbformat": 3,
 "nbformat_minor": 0,
 "worksheets": [
  {
   "cells": [
    {
     "cell_type": "markdown",
     "metadata": {},
     "source": [
      "# Recommender Systems Lab\n",
      "<img src=\"./images/recsys.png\">"
     ]
    },
    {
     "cell_type": "markdown",
     "metadata": {},
     "source": [
      "# Contents\n",
      "\n",
      "Here are the essay version of my notes from various Recommender System, lectures, books, and research papers. All credits to the researchers. See references below.\n",
      "\n",
      "- What is a Recommender System? [[Essay]()]\n",
      "- Collaborative Filtering [[Essay]()]\n",
      "- Matrix Factorization (SVD) [[Essay]()]\n",
      "- Content-based Recommendations [[Essay]()]\n",
      "- What did we learn from Netflix Prize? [[Essay]()]\n",
      "- Learning to Rank [[Essay]()]"
     ]
    },
    {
     "cell_type": "markdown",
     "metadata": {},
     "source": [
      "###References\n",
      "[back to top](#contents)\n",
      "- [Restricted Boltzmann Machines for Collaborative Filtering - Geoffrey Hinton](http://www.cs.utoronto.ca/~hinton/absps/netflixICML.pdf)\n",
      "- [Recommender Systems - Xavier Amatriain](http://www.slideshare.net/xamat/recommender-systems-machine-learning-summer-school-2014-cmu)\n",
      "- [Introduction to Recommender Systems - Joseph A Konstan](https://www.coursera.org/course/recsys)\n",
      "- [Try this at home - Simon Funk](http://sifter.org/~simon/journal/20061211.html)"
     ]
    }
   ],
   "metadata": {}
  }
 ]
}
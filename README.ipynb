{
 "metadata": {
  "name": "",
  "signature": "sha256:4c4dd69d2cee63c8faa2b579765cc066b9d1c2801507bf7200477b1f756e4800"
 },
 "nbformat": 3,
 "nbformat_minor": 0,
 "worksheets": [
  {
   "cells": [
    {
     "cell_type": "markdown",
     "metadata": {},
     "source": [
      "# Recommender Systems Lab\n",
      "<img src=\"./images/recsys.png\">"
     ]
    },
    {
     "cell_type": "markdown",
     "metadata": {},
     "source": [
      "# Contents\n",
      "\n",
      "Here are the essay version of my notes from various Recommender System, lectures, books, and research papers. All credits to the researchers. See references below.\n",
      "\n",
      "1. What is a Recommender System? [[Essay]()]\n",
      "- Collaborative Filtering [[Essay]()]\n",
      "- Matrix Factorization (SVD)\n",
      "- Introduction to Restricted Boltzmann Machines\n",
      "- Content-based Recommendations\n",
      "- Learning to Rank\n",
      "- Context-aware Recommendations\n",
      "- Similarity\n",
      "- Social Recommendations\n",
      "- Evaluating Recommender System\n",
      "- What did we learn from Netflix Prize?"
     ]
    },
    {
     "cell_type": "markdown",
     "metadata": {},
     "source": [
      "# Case Study\n",
      "[back to top](#contents)\n",
      "\n",
      "- A [[Essay]()]\n",
      "- B [[Essay]()]\n",
      "- c [[Essay]()]"
     ]
    },
    {
     "cell_type": "markdown",
     "metadata": {},
     "source": [
      "# References\n",
      "[back to top](#contents)\n",
      "- [Restricted Boltzmann Machines for Collaborative Filtering - Geoffrey Hinton](http://www.cs.utoronto.ca/~hinton/absps/netflixICML.pdf)\n",
      "- [A Practical Guide to Training\n",
      "Restricted Boltzmann Machines - Geoffrey Hinton](http://www.cs.toronto.edu/~hinton/absps/guideTR.pdf)\n",
      "- [Recommender Systems - Xavier Amatriain](http://www.slideshare.net/xamat/recommender-systems-machine-learning-summer-school-2014-cmu)\n",
      "- [Coursera Recommender Systems - Joseph A Konstan](https://www.coursera.org/course/recsys)\n",
      "- [Try this at home - Simon Funk](http://sifter.org/~simon/journal/20061211.html)"
     ]
    }
   ],
   "metadata": {}
  }
 ]
}
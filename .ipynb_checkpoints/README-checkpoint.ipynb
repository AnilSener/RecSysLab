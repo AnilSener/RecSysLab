{
 "metadata": {
  "name": "",
  "signature": "sha256:ccd63f922877a050111c9348a9af65d894c93752e10d35bb02f2989cd9825fad"
 },
 "nbformat": 3,
 "nbformat_minor": 0,
 "worksheets": [
  {
   "cells": [
    {
     "cell_type": "markdown",
     "metadata": {},
     "source": [
      "# Recommender Systems Lab\n",
      "<img src=\"./images/recsys.png\">"
     ]
    },
    {
     "cell_type": "markdown",
     "metadata": {},
     "source": [
      "# Contents\n",
      "\n",
      "Here are the essay version of my notes from various Recommender System, lectures, books, and research papers. All credits to the researchers. See references below.\n",
      "\n",
      "1. What is a Recommender System? [[Essay]()]\n",
      "- Collaborative Filtering [[Essay]()]\n",
      "- Content-based Recommendations [[Essay]()]\n",
      "- Matrix Factorization (SVD) [[Essay]()]\n",
      "- Introduction to Restricted Boltzmann Machines [[Essay]()]\n",
      "- Learning to Rank [[Essay]()]\n",
      "- Context-aware Recommendations [[Essay]()]\n",
      "- Similarity [[Essay]()]\n",
      "- Social Recommendations [[Essay]()]\n",
      "- What did we learn from Netflix Prize? [[Essay]()]"
     ]
    },
    {
     "cell_type": "markdown",
     "metadata": {},
     "source": [
      "###References\n",
      "[back to top](#contents)\n",
      "- [Restricted Boltzmann Machines for Collaborative Filtering - Geoffrey Hinton](http://www.cs.utoronto.ca/~hinton/absps/netflixICML.pdf)\n",
      "- [A Practical Guide to Training\n",
      "Restricted Boltzmann Machines - Geoffrey Hinton](http://www.cs.toronto.edu/~hinton/absps/guideTR.pdf)\n",
      "- [Recommender Systems - Xavier Amatriain](http://www.slideshare.net/xamat/recommender-systems-machine-learning-summer-school-2014-cmu)\n",
      "- [Introduction to Recommender Systems - Joseph A Konstan](https://www.coursera.org/course/recsys)\n",
      "- [Try this at home - Simon Funk](http://sifter.org/~simon/journal/20061211.html)"
     ]
    }
   ],
   "metadata": {}
  }
 ]
}